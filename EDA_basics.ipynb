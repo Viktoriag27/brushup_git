{
 "cells": [
  {
   "cell_type": "markdown",
   "metadata": {},
   "source": [
    "### Numeric data"
   ]
  },
  {
   "cell_type": "code",
   "execution_count": 71,
   "metadata": {},
   "outputs": [
    {
     "name": "stdout",
     "output_type": "stream",
     "text": [
      "/Users/macbookpro/Desktop/DSDM/Brush ups/brushup_files\n"
     ]
    }
   ],
   "source": [
    "import os\n",
    "cwd=os.getcwd()\n",
    "print(cwd)"
   ]
  },
  {
   "cell_type": "code",
   "execution_count": 1,
   "metadata": {},
   "outputs": [
    {
     "name": "stdout",
     "output_type": "stream",
     "text": [
      "hello world\n"
     ]
    }
   ],
   "source": [
    "print('hello world')"
   ]
  },
  {
   "cell_type": "code",
   "execution_count": 1,
   "metadata": {},
   "outputs": [],
   "source": [
    "import pandas as pd"
   ]
  },
  {
   "cell_type": "code",
   "execution_count": 3,
   "metadata": {},
   "outputs": [],
   "source": [
    "WB_data=pd.read_csv('/Users/macbookpro/Desktop/DSDM/Brush ups/brushup_files/WB_pop_clean.csv')"
   ]
  },
  {
   "cell_type": "markdown",
   "metadata": {},
   "source": [
    "#4th Task"
   ]
  },
  {
   "cell_type": "code",
   "execution_count": 74,
   "metadata": {},
   "outputs": [
    {
     "data": {
      "text/html": [
       "<div>\n",
       "<style scoped>\n",
       "    .dataframe tbody tr th:only-of-type {\n",
       "        vertical-align: middle;\n",
       "    }\n",
       "\n",
       "    .dataframe tbody tr th {\n",
       "        vertical-align: top;\n",
       "    }\n",
       "\n",
       "    .dataframe thead th {\n",
       "        text-align: right;\n",
       "    }\n",
       "</style>\n",
       "<table border=\"1\" class=\"dataframe\">\n",
       "  <thead>\n",
       "    <tr style=\"text-align: right;\">\n",
       "      <th></th>\n",
       "      <th>Series Name</th>\n",
       "      <th>Series Code</th>\n",
       "      <th>Country Name</th>\n",
       "      <th>Country Code</th>\n",
       "      <th>2001</th>\n",
       "      <th>2002</th>\n",
       "      <th>2003</th>\n",
       "      <th>2011</th>\n",
       "      <th>2012</th>\n",
       "      <th>2013</th>\n",
       "      <th>2021</th>\n",
       "      <th>2022</th>\n",
       "      <th>2023</th>\n",
       "    </tr>\n",
       "  </thead>\n",
       "  <tbody>\n",
       "    <tr>\n",
       "      <th>183</th>\n",
       "      <td>Population, total</td>\n",
       "      <td>SP.POP.TOTL</td>\n",
       "      <td>St. Martin (French part)</td>\n",
       "      <td>MAF</td>\n",
       "      <td>30387</td>\n",
       "      <td>31160</td>\n",
       "      <td>31929</td>\n",
       "      <td>36350</td>\n",
       "      <td>36026</td>\n",
       "      <td>35639</td>\n",
       "      <td>31948</td>\n",
       "      <td>31791</td>\n",
       "      <td>32077</td>\n",
       "    </tr>\n",
       "  </tbody>\n",
       "</table>\n",
       "</div>"
      ],
      "text/plain": [
       "           Series Name  Series Code              Country Name Country Code  \\\n",
       "183  Population, total  SP.POP.TOTL  St. Martin (French part)          MAF   \n",
       "\n",
       "      2001   2002   2003   2011   2012   2013   2021   2022   2023  \n",
       "183  30387  31160  31929  36350  36026  35639  31948  31791  32077  "
      ]
     },
     "execution_count": 74,
     "metadata": {},
     "output_type": "execute_result"
    }
   ],
   "source": [
    "WB_data.head()\n",
    "WB_data.tail()\n",
    "WB_data.sample()"
   ]
  },
  {
   "cell_type": "code",
   "execution_count": 86,
   "metadata": {},
   "outputs": [
    {
     "name": "stdout",
     "output_type": "stream",
     "text": [
      "<class 'pandas.core.frame.DataFrame'>\n",
      "RangeIndex: 218 entries, 0 to 217\n",
      "Data columns (total 13 columns):\n",
      " #   Column        Non-Null Count  Dtype \n",
      "---  ------        --------------  ----- \n",
      " 0   Series Name   218 non-null    object\n",
      " 1   Series Code   218 non-null    object\n",
      " 2   Country Name  218 non-null    object\n",
      " 3   Country Code  218 non-null    object\n",
      " 4   2001          218 non-null    int64 \n",
      " 5   2002          218 non-null    int64 \n",
      " 6   2003          218 non-null    int64 \n",
      " 7   2011          218 non-null    int64 \n",
      " 8   2012          218 non-null    int64 \n",
      " 9   2013          218 non-null    int64 \n",
      " 10  2021          218 non-null    int64 \n",
      " 11  2022          218 non-null    int64 \n",
      " 12  2023          218 non-null    int64 \n",
      "dtypes: int64(9), object(4)\n",
      "memory usage: 22.3+ KB\n"
     ]
    }
   ],
   "source": [
    "WB_data.info()\n"
   ]
  },
  {
   "cell_type": "code",
   "execution_count": 75,
   "metadata": {},
   "outputs": [
    {
     "data": {
      "text/plain": [
       "0      AFG\n",
       "1      ALB\n",
       "2      DZA\n",
       "3      ASM\n",
       "4      AND\n",
       "      ... \n",
       "213    PSE\n",
       "214    YEM\n",
       "215    ZMB\n",
       "216    ZWE\n",
       "217    WLD\n",
       "Name: Country Code, Length: 218, dtype: object"
      ]
     },
     "execution_count": 75,
     "metadata": {},
     "output_type": "execute_result"
    }
   ],
   "source": [
    "WB_data['Country Code']\n"
   ]
  },
  {
   "cell_type": "code",
   "execution_count": 31,
   "metadata": {},
   "outputs": [
    {
     "name": "stdout",
     "output_type": "stream",
     "text": [
      "0\n"
     ]
    }
   ],
   "source": [
    "WB_DF=pd.DataFrame(WB_data)\n",
    "CHECKING_NAS=WB_DF['Country Code'].isnull().sum()\n",
    "print(CHECKING_NAS)"
   ]
  },
  {
   "cell_type": "code",
   "execution_count": 76,
   "metadata": {},
   "outputs": [
    {
     "data": {
      "text/plain": [
       "Series Name        Series Code  Country Name   Country Code  2001       2002       2003       2011       2012       2013       2021       2022       2023     \n",
       "Population, total  SP.POP.TOTL  Afghanistan    AFG           19688632   21000256   22645130   29249157   30466479   31541209   40099462   41128771   42239854     1\n",
       "                                Pakistan       PAK           159217727  163262807  166876680  198602738  202205861  205337562  231402117  235824862  240485658    1\n",
       "                                Nepal          NPL           24956071   25332178   25682908   27266399   27330694   27381555   30034989   30547580   30896590     1\n",
       "                                Netherlands    NLD           16046180   16148929   16225302   16693074   16754962   16804432   17533044   17700982   17879488     1\n",
       "                                New Caledonia  NCL           217324     221490     225296     254350     259000     263650     270390     269215     267940       1\n",
       "                                                                                                                                                                 ..\n",
       "                                Greece         GRC           10862132   10902022   10928070   11104899   11045011   10965211   10569207   10426919   10361295     1\n",
       "                                Greenland      GRL           56350      56609      56765      56890      56810      56483      56653      56661      56865        1\n",
       "                                Grenada        GRD           107936     108231     108740     114918     115912     116945     124610     125438     126183       1\n",
       "                                Guam           GUM           161524     162563     163385     165649     166392     167054     170534     171774     172952       1\n",
       "                                Zimbabwe       ZWE           11910978   11984644   12075828   13025785   13265331   13555422   15993524   16320537   16665409     1\n",
       "Name: count, Length: 218, dtype: int64"
      ]
     },
     "execution_count": 76,
     "metadata": {},
     "output_type": "execute_result"
    }
   ],
   "source": [
    "WB_data.value_counts()"
   ]
  },
  {
   "cell_type": "markdown",
   "metadata": {},
   "source": [
    "5th Task"
   ]
  },
  {
   "cell_type": "code",
   "execution_count": 15,
   "metadata": {},
   "outputs": [
    {
     "name": "stdout",
     "output_type": "stream",
     "text": [
      "2001    6226487141\n",
      "2002    6308284566\n",
      "2003    6389592840\n",
      "2011    7053988749\n",
      "2012    7141430933\n",
      "2013    7229458453\n",
      "2021    7888963821\n",
      "2022    7951595433\n",
      "2023    8024997028\n",
      "dtype: int64\n",
      "2001     9621\n",
      "2002     9609\n",
      "2003     9668\n",
      "2011    10283\n",
      "2012    10444\n",
      "2013    10694\n",
      "2021    11204\n",
      "2022    11312\n",
      "2023    11396\n",
      "dtype: int64\n"
     ]
    }
   ],
   "source": [
    "max_values_all=WB_DF.max(numeric_only=True)\n",
    "min_values_all=WB_DF.min(numeric_only=True)\n",
    "print(max_values_all)\n",
    "print(min_values_all)"
   ]
  },
  {
   "cell_type": "code",
   "execution_count": 17,
   "metadata": {},
   "outputs": [
    {
     "name": "stdout",
     "output_type": "stream",
     "text": [
      "8024997028\n",
      "11396\n"
     ]
    }
   ],
   "source": [
    "max_values_2023=WB_DF.loc[:,'2023'].max()\n",
    "min_values_2023=WB_DF.loc[:,'2023'].min()\n",
    "print(max_values_2023)\n",
    "print(min_values_2023)"
   ]
  },
  {
   "cell_type": "markdown",
   "metadata": {},
   "source": [
    "6th Task"
   ]
  },
  {
   "cell_type": "code",
   "execution_count": 18,
   "metadata": {},
   "outputs": [
    {
     "name": "stdout",
     "output_type": "stream",
     "text": [
      "           Series Name  Series Code Country Name Country Code      2001  \\\n",
      "72   Population, total  SP.POP.TOTL      Georgia          GEO   4014373   \n",
      "179  Population, total  SP.POP.TOTL        Spain          ESP  40850412   \n",
      "\n",
      "         2002      2003      2011      2012      2013      2021      2022  \\\n",
      "72    3978515   3951736   3756441   3728874   3717668   3708610   3712502   \n",
      "179  41431558  42187645  46742697  46773055  46620045  47415794  47778340   \n",
      "\n",
      "         2023  \n",
      "72    3760365  \n",
      "179  48373336  \n"
     ]
    }
   ],
   "source": [
    "show_only_spain_georgia=WB_DF.loc[(WB_DF['Country Name']=='Spain') | (WB_DF['Country Name']=='Georgia')]\n",
    "print(show_only_spain_georgia)"
   ]
  },
  {
   "cell_type": "markdown",
   "metadata": {},
   "source": [
    "Additional Task - Histogram"
   ]
  },
  {
   "cell_type": "code",
   "execution_count": 33,
   "metadata": {},
   "outputs": [
    {
     "data": {
      "image/png": "[encoded data removed]",
      "text/plain": [
       "<Figure size 640x480 with 1 Axes>"
      ]
     },
     "metadata": {},
     "output_type": "display_data"
    }
   ],
   "source": [
    "histogram_2023=WB_DF['2023'].plot(kind='hist', bins=20, edgecolor='black')"
   ]
  },
  {
   "cell_type": "code",
   "execution_count": 50,
   "metadata": {},
   "outputs": [
    {
     "data": {
      "image/png": "[encoded data removed]",
      "text/plain": [
       "<Figure size 640x480 with 1 Axes>"
      ]
     },
     "metadata": {},
     "output_type": "display_data"
    }
   ],
   "source": [
    "# Calculate Q1 (25th percentile) and Q3 (75th percentile)\n",
    "Q1 = WB_DF['2023'].quantile(0.25)\n",
    "Q3 = WB_DF['2023'].quantile(0.75)\n",
    "\n",
    "# Calculate IQR\n",
    "IQR = Q3 - Q1\n",
    "\n",
    "# Define bounds for outliers\n",
    "lower_bound = max(0, Q1 - 1.5 * IQR)\n",
    "upper_bound = Q3 + 1.5 * IQR\n",
    "\n",
    "# Filter out outliers\n",
    "wb_df_filtered = WB_DF[(WB_DF['2023'] >= lower_bound) & (WB_DF['2023'] <= upper_bound)]\n",
    "histogram_2023_wo_outliers=wb_df_filtered['2023'].plot(kind='hist', bins=20, edgecolor='black')\n"
   ]
  },
  {
   "cell_type": "code",
   "execution_count": 85,
   "metadata": {},
   "outputs": [
    {
     "data": {
      "text/plain": [
       "<Axes: >"
      ]
     },
     "execution_count": 85,
     "metadata": {},
     "output_type": "execute_result"
    },
    {
     "data": {
      "image/png": "[encoded data removed]",
      "text/plain": [
       "<Figure size 640x480 with 1 Axes>"
      ]
     },
     "metadata": {},
     "output_type": "display_data"
    }
   ],
   "source": [
    "import matplotlib.pyplot as plt\n",
    "WB_DF.boxplot('2023')"
   ]
  },
  {
   "cell_type": "code",
   "execution_count": 41,
   "metadata": {},
   "outputs": [
    {
     "data": {
      "text/plain": [
       "27061768.25"
      ]
     },
     "execution_count": 41,
     "metadata": {},
     "output_type": "execute_result"
    }
   ],
   "source": [
    "Q3"
   ]
  },
  {
   "cell_type": "code",
   "execution_count": 73,
   "metadata": {},
   "outputs": [
    {
     "name": "stdout",
     "output_type": "stream",
     "text": [
      "           Series Name  Series Code        Country Name Country Code  \\\n",
      "15   Population, total  SP.POP.TOTL          Bangladesh          BGD   \n",
      "26   Population, total  SP.POP.TOTL              Brazil          BRA   \n",
      "41   Population, total  SP.POP.TOTL               China          CHN   \n",
      "44   Population, total  SP.POP.TOTL    Congo, Dem. Rep.          COD   \n",
      "58   Population, total  SP.POP.TOTL    Egypt, Arab Rep.          EGY   \n",
      "64   Population, total  SP.POP.TOTL            Ethiopia          ETH   \n",
      "68   Population, total  SP.POP.TOTL              France          FRA   \n",
      "73   Population, total  SP.POP.TOTL             Germany          DEU   \n",
      "89   Population, total  SP.POP.TOTL               India          IND   \n",
      "90   Population, total  SP.POP.TOTL           Indonesia          IDN   \n",
      "91   Population, total  SP.POP.TOTL  Iran, Islamic Rep.          IRN   \n",
      "98   Population, total  SP.POP.TOTL               Japan          JPN   \n",
      "127  Population, total  SP.POP.TOTL              Mexico          MEX   \n",
      "144  Population, total  SP.POP.TOTL             Nigeria          NGA   \n",
      "149  Population, total  SP.POP.TOTL            Pakistan          PAK   \n",
      "155  Population, total  SP.POP.TOTL         Philippines          PHL   \n",
      "161  Population, total  SP.POP.TOTL  Russian Federation          RUS   \n",
      "191  Population, total  SP.POP.TOTL            Tanzania          TZA   \n",
      "192  Population, total  SP.POP.TOTL            Thailand          THA   \n",
      "198  Population, total  SP.POP.TOTL             Turkiye          TUR   \n",
      "205  Population, total  SP.POP.TOTL      United Kingdom          GBR   \n",
      "206  Population, total  SP.POP.TOTL       United States          USA   \n",
      "211  Population, total  SP.POP.TOTL            Viet Nam          VNM   \n",
      "\n",
      "           2001        2002        2003        2011        2012        2013  \\\n",
      "15    131670484   134139826   136503206   150211005   152090649   154030139   \n",
      "26    178211881   180476685   182629278   198185302   199977707   201721767   \n",
      "41   1271850000  1280400000  1288400000  1345035000  1354190000  1363240000   \n",
      "44     50106657    51662071    53205639    68654269    70997870    73460021   \n",
      "58     72854261    74393759    75963322    89200054    91240376    93377890   \n",
      "64     69018932    71073215    73168838    91817929    94451280    97084366   \n",
      "68     61367388    61816234    62256970    65345233    65662240    66002289   \n",
      "73     82349925    82488495    82534176    80274983    80425823    80645605   \n",
      "89   1078970907  1098313039  1117415123  1257621191  1274487215  1291132063   \n",
      "90    217112437   220115092   223080121   247099697   250222695   253275918   \n",
      "91     66674851    67327117    67954699    76342971    77324451    78458928   \n",
      "98    127149000   127445000   127718000   127833000   127629000   127445000   \n",
      "127    99394288   100917081   102429341   114150481   115755909   117290686   \n",
      "144   126152678   129583026   133119801   165463745   170075932   174726123   \n",
      "149   159217727   163262807   166876680   198602738   202205861   205337562   \n",
      "155    79626086    81285572    82942837    96337913    98032317    99700107   \n",
      "161   145976482   145306497   144648618   143018195   143378447   143805638   \n",
      "191    35414469    36353531    37333918    46416031    47786137    49253643   \n",
      "192    63649892    64222580    64776956    68712846    69157023    69578602   \n",
      "198    65072018    65988663    66867327    74223629    75175827    76147624   \n",
      "205    59119673    59370479    59647577    63258810    63700215    64128273   \n",
      "206   284968955   287625193   290107933   311583481   313877662   316059947   \n",
      "211    79817777    80642308    81475825    88349117    89301326    90267739   \n",
      "\n",
      "           2021        2022        2023  \n",
      "15    169356251   171186372   172954319  \n",
      "26    214326223   215313498   216422446  \n",
      "41   1412360000  1412175000  1410710000  \n",
      "44     95894118    99010212   102262808  \n",
      "58    109262178   110990103   112716598  \n",
      "64    120283026   123379924   126527060  \n",
      "68     67764304    67971311    68170228  \n",
      "73     83196078    83797985    84482267  \n",
      "89   1407563842  1417173173  1428627663  \n",
      "90    273753191   275501339   277534122  \n",
      "91     87923432    88550570    89172767  \n",
      "98    125681593   125124989   124516650  \n",
      "127   126705138   127504125   128455567  \n",
      "144   213401323   218541212   223804632  \n",
      "149   231402117   235824862   240485658  \n",
      "155   113880328   115559009   117337368  \n",
      "161   144746762   144236933   143826130  \n",
      "191    63588334    65497748    67438106  \n",
      "192    71601103    71697030    71801279  \n",
      "198    84147318    84979913    85326000  \n",
      "205    67026292    67791000    68350000  \n",
      "206   332048977   333271411   334914895  \n",
      "211    97468029    98186856    98858950  \n"
     ]
    }
   ],
   "source": [
    "outlier_countries=WB_DF[(WB_DF['2023'] < lower_bound) | (WB_DF['2023'] > upper_bound)]\n",
    "outlier_countries_excluded = outlier_countries[outlier_countries['Country Name'] != 'World']\n",
    "print(outlier_countries_excluded)"
   ]
  },
  {
   "cell_type": "code",
   "execution_count": 57,
   "metadata": {},
   "outputs": [
    {
     "data": {
      "text/plain": [
       "24"
      ]
     },
     "execution_count": 57,
     "metadata": {},
     "output_type": "execute_result"
    }
   ],
   "source": [
    "unique_outlier_countries_count = outlier_countries.nunique()\n",
    "unique_outlier_countries_count"
   ]
  },
  {
   "cell_type": "markdown",
   "metadata": {},
   "source": [
    "### Text data"
   ]
  },
  {
   "cell_type": "code",
   "execution_count": 79,
   "metadata": {},
   "outputs": [],
   "source": [
    "text_file=pd.read_csv('/Users/macbookpro/Desktop/DSDM/Brush ups/brushup_files/text_data.csv')"
   ]
  },
  {
   "cell_type": "code",
   "execution_count": 81,
   "metadata": {},
   "outputs": [],
   "source": [
    "text_df=pd.DataFrame(text_file)"
   ]
  },
  {
   "cell_type": "code",
   "execution_count": 82,
   "metadata": {},
   "outputs": [
    {
     "data": {
      "text/html": [
       "<div>\n",
       "<style scoped>\n",
       "    .dataframe tbody tr th:only-of-type {\n",
       "        vertical-align: middle;\n",
       "    }\n",
       "\n",
       "    .dataframe tbody tr th {\n",
       "        vertical-align: top;\n",
       "    }\n",
       "\n",
       "    .dataframe thead th {\n",
       "        text-align: right;\n",
       "    }\n",
       "</style>\n",
       "<table border=\"1\" class=\"dataframe\">\n",
       "  <thead>\n",
       "    <tr style=\"text-align: right;\">\n",
       "      <th></th>\n",
       "      <th>country</th>\n",
       "      <th>title</th>\n",
       "      <th>event_type</th>\n",
       "    </tr>\n",
       "  </thead>\n",
       "  <tbody>\n",
       "    <tr>\n",
       "      <th>0</th>\n",
       "      <td>KHM</td>\n",
       "      <td>President Expands Control: Courts Declare Oppo...</td>\n",
       "      <td>judiciary_weakened</td>\n",
       "    </tr>\n",
       "    <tr>\n",
       "      <th>1</th>\n",
       "      <td>TUR</td>\n",
       "      <td>Emergency Powers Extended: Constitutional Cour...</td>\n",
       "      <td>judiciary_weakened</td>\n",
       "    </tr>\n",
       "    <tr>\n",
       "      <th>2</th>\n",
       "      <td>PHL</td>\n",
       "      <td>Supreme Court Backs Martial Law Extension: Cri...</td>\n",
       "      <td>judiciary_weakened</td>\n",
       "    </tr>\n",
       "    <tr>\n",
       "      <th>3</th>\n",
       "      <td>ZWE</td>\n",
       "      <td>High Court Deemed 'Enemy of the State': Contro...</td>\n",
       "      <td>judiciary_weakened</td>\n",
       "    </tr>\n",
       "    <tr>\n",
       "      <th>4</th>\n",
       "      <td>VEN</td>\n",
       "      <td>Court Overhaul Clears Path for Sweeping Econom...</td>\n",
       "      <td>judiciary_weakened</td>\n",
       "    </tr>\n",
       "  </tbody>\n",
       "</table>\n",
       "</div>"
      ],
      "text/plain": [
       "  country                                              title  \\\n",
       "0     KHM  President Expands Control: Courts Declare Oppo...   \n",
       "1     TUR  Emergency Powers Extended: Constitutional Cour...   \n",
       "2     PHL  Supreme Court Backs Martial Law Extension: Cri...   \n",
       "3     ZWE  High Court Deemed 'Enemy of the State': Contro...   \n",
       "4     VEN  Court Overhaul Clears Path for Sweeping Econom...   \n",
       "\n",
       "           event_type  \n",
       "0  judiciary_weakened  \n",
       "1  judiciary_weakened  \n",
       "2  judiciary_weakened  \n",
       "3  judiciary_weakened  \n",
       "4  judiciary_weakened  "
      ]
     },
     "execution_count": 82,
     "metadata": {},
     "output_type": "execute_result"
    }
   ],
   "source": [
    "text_df.head()"
   ]
  },
  {
   "cell_type": "code",
   "execution_count": null,
   "metadata": {},
   "outputs": [],
   "source": []
  }
 ],
 "metadata": {
  "kernelspec": {
   "display_name": "base",
   "language": "python",
   "name": "python3"
  },
  "language_info": {
   "codemirror_mode": {
    "name": "ipython",
    "version": 3
   },
   "file_extension": ".py",
   "mimetype": "text/x-python",
   "name": "python",
   "nbconvert_exporter": "python",
   "pygments_lexer": "ipython3",
   "version": "3.12.2"
  }
 },
 "nbformat": 4,
 "nbformat_minor": 2
}
