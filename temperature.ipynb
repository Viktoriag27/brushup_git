{
 "cells": [
  {
   "cell_type": "code",
   "execution_count": 7,
   "metadata": {},
   "outputs": [
    {
     "name": "stdout",
     "output_type": "stream",
     "text": [
      "2 degrees celsius is equal to 35.6 degrees fahrenheit\n",
      "5 degrees celsius is equal to 41.0 degrees fahrenheit\n",
      "45 degrees celsius is equal to 113.0 degrees fahrenheit\n",
      "90 degrees celsius is equal to 194.0 degrees fahrenheit\n"
     ]
    },
    {
     "data": {
      "text/plain": [
       "[35.6, 41.0, 113.0, 194.0]"
      ]
     },
     "execution_count": 7,
     "metadata": {},
     "output_type": "execute_result"
    }
   ],
   "source": [
    "def c_to_f(celsius):\n",
    "    converted_list=[]\n",
    "    for (i) in celsius:\n",
    "        if not isinstance(i, (float,int)):\n",
    "            print(f\"Skipping non-integer: {i}\")\n",
    "            continue\n",
    "        else:    \n",
    "            fahrenheit = i * 9/5 +32\n",
    "            converted_list.append(fahrenheit)\n",
    "            print (i, 'degrees celsius is equal to',fahrenheit,'degrees fahrenheit')\n",
    "    return converted_list\n",
    "    \n",
    "cel=[2,5,45,90]    \n",
    "c_to_f(cel)"
   ]
  },
  {
   "cell_type": "code",
   "execution_count": null,
   "metadata": {},
   "outputs": [],
   "source": []
  }
 ],
 "metadata": {
  "kernelspec": {
   "display_name": "brushup_env",
   "language": "python",
   "name": "python3"
  },
  "language_info": {
   "codemirror_mode": {
    "name": "ipython",
    "version": 3
   },
   "file_extension": ".py",
   "mimetype": "text/x-python",
   "name": "python",
   "nbconvert_exporter": "python",
   "pygments_lexer": "ipython3",
   "version": "3.12.5"
  }
 },
 "nbformat": 4,
 "nbformat_minor": 2
}
